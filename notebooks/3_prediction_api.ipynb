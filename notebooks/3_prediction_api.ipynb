{
 "cells": [
  {
   "cell_type": "markdown",
   "metadata": {},
   "source": [
    "# AgriAutoML Prediction API\n",
    "\n",
    "This notebook implements the FastAPI server for crop yield predictions."
   ]
  },
  {
   "cell_type": "code",
   "execution_count": null,
   "metadata": {},
   "source": [
    "import os\n",
    "import uvicorn\n",
    "from fastapi import FastAPI, HTTPException\n",
    "from pydantic import BaseModel\n",
    "from dotenv import load_dotenv\n",
    "\n",
    "# Load environment variables\n",
    "load_dotenv()\n",
    "\n",
    "app = FastAPI(title=\"AgriAutoML API\")"
   ]
  },
  {
   "cell_type": "code",
   "execution_count": null,
   "metadata": {},
   "source": [
    "class PredictionRequest(BaseModel):\n",
    "    query: str\n",
    "\n",
    "@app.post(\"/predict\")\n",
    "async def predict(request: PredictionRequest):\n",
    "    try:\n",
    "        # Process the natural language query\n",
    "        structured_data = process_query(request.query)\n",
    "        \n",
    "        # Get predictions from models\n",
    "        predictions = get_predictions(structured_data)\n",
    "        \n",
    "        return {\n",
    "            \"query\": request.query,\n",
    "            \"structured_data\": structured_data,\n",
    "            \"predictions\": predictions\n",
    "        }\n",
    "    except Exception as e:\n",
    "        raise HTTPException(status_code=500, detail=str(e))"
   ]
  },
  {
   "cell_type": "code",
   "execution_count": null,
   "metadata": {},
   "source": [
    "def start_server():\n",
    "    \"\"\"Start the FastAPI server\"\"\"\n",
    "    host = os.getenv(\"SERVER_HOST\", \"0.0.0.0\")\n",
    "    port = int(os.getenv(\"SERVER_PORT\", \"8000\"))\n",
    "    \n",
    "    config = uvicorn.Config(\n",
    "        app=app,\n",
    "        host=host,\n",
    "        port=port,\n",
    "        log_level=\"info\"\n",
    "    )\n",
    "    server = uvicorn.Server(config)\n",
    "    server.run()"
   ]
  },
  {
   "cell_type": "code",
   "execution_count": null,
   "metadata": {},
   "source": [
    "if __name__ == \"__main__\":\n",
    "    start_server()"
   ]
  }
 ],
 "metadata": {
  "kernelspec": {
   "display_name": "Python 3",
   "language": "python",
   "name": "python3"
  }
 }
}
