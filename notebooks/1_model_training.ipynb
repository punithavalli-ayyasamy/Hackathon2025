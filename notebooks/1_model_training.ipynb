{
 "cells": [
  {
   "cell_type": "markdown",
   "metadata": {},
   "source": [
    "# AgriAutoML Model Training\n",
    "\n",
    "This notebook handles the training of vision and tabular models using Vertex AI AutoML."
   ]
  },
  {
   "cell_type": "code",
   "execution_count": null,
   "metadata": {},
   "source": [
    "import os\n",
    "from google.cloud import aiplatform\n",
    "from dotenv import load_dotenv\n",
    "\n",
    "# Load environment variables\n",
    "load_dotenv()\n",
    "\n",
    "# Initialize Vertex AI\n",
    "aiplatform.init(\n",
    "    project=os.getenv(\"GCP_PROJECT_ID\"),\n",
    "    location=os.getenv(\"GCP_REGION\"),\n",
    ")"
   ]
  },
  {
   "cell_type": "markdown",
   "metadata": {},
   "source": [
    "## Dataset Creation"
   ]
  },
  {
   "cell_type": "code",
   "execution_count": null,
   "metadata": {},
   "source": [
    "def create_vision_dataset(bucket_name: str, image_uri: str):\n",
    "    \"\"\"Create vision dataset from GCS bucket\"\"\"\n",
    "    dataset = aiplatform.ImageDataset.create(\n",
    "        display_name=\"cropnet_vision_dataset\",\n",
    "        gcs_source=f\"gs://{bucket_name}/{image_uri}\",\n",
    "        import_schema_uri=aiplatform.schema.dataset.ioformat.image.single_label_classification\n",
    "    )\n",
    "    return dataset\n",
    "\n",
    "def create_tabular_dataset(bucket_name: str, table_uri: str):\n",
    "    \"\"\"Create tabular dataset from GCS bucket\"\"\"\n",
    "    dataset = aiplatform.TabularDataset.create(\n",
    "        display_name=\"cropnet_tabular_dataset\",\n",
    "        gcs_source=f\"gs://{bucket_name}/{table_uri}\"\n",
    "    )\n",
    "    return dataset"
   ]
  },
  {
   "cell_type": "markdown",
   "metadata": {},
   "source": [
    "## Model Training"
   ]
  },
  {
   "cell_type": "code",
   "execution_count": null,
   "metadata": {},
   "source": [
    "def train_vision_model(vision_dataset, budget_hours=1.0):\n",
    "    \"\"\"Train AutoML Vision model\"\"\"\n",
    "    job = aiplatform.AutoMLImageTrainingJob(\n",
    "        display_name=\"cropnet_vision_training\",\n",
    "        prediction_type=\"image_classification\"\n",
    "    )\n",
    "    \n",
    "    model = job.run(\n",
    "        dataset=vision_dataset,\n",
    "        target_column=\"yield\",\n",
    "        budget_milli_node_hours=budget_hours * 1000,\n",
    "        model_display_name=\"cropnet_vision_model\",\n",
    "        training_fraction_split=0.8,\n",
    "        validation_fraction_split=0.1,\n",
    "        test_fraction_split=0.1\n",
    "    )\n",
    "    return model\n",
    "\n",
    "def train_tabular_model(tabular_dataset, budget_hours=1.0):\n",
    "    \"\"\"Train AutoML Tabular model\"\"\"\n",
    "    job = aiplatform.AutoMLTabularTrainingJob(\n",
    "        display_name=\"cropnet_tabular_training\",\n",
    "        optimization_prediction_type=\"regression\"\n",
    "    )\n",
    "    \n",
    "    model = job.run(\n",
    "        dataset=tabular_dataset,\n",
    "        target_column=\"yield\",\n",
    "        optimization_objective=\"minimize-rmse\",\n",
    "        budget_milli_node_hours=budget_hours * 1000,\n",
    "        model_display_name=\"cropnet_tabular_model\",\n",
    "        training_fraction_split=0.8,\n",
    "        validation_fraction_split=0.1,\n",
    "        test_fraction_split=0.1\n",
    "    )\n",
    "    return model"
   ]
  }
 ],
 "metadata": {
  "kernelspec": {
   "display_name": "Python 3",
   "language": "python",
   "name": "python3"
  }
 }
}
